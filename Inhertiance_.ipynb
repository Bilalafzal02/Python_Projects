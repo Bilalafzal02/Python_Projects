{
  "nbformat": 4,
  "nbformat_minor": 0,
  "metadata": {
    "colab": {
      "provenance": [],
      "authorship_tag": "ABX9TyPm0e6b6vMETuoyIEjYstKi",
      "include_colab_link": true
    },
    "kernelspec": {
      "name": "python3",
      "display_name": "Python 3"
    },
    "language_info": {
      "name": "python"
    }
  },
  "cells": [
    {
      "cell_type": "markdown",
      "metadata": {
        "id": "view-in-github",
        "colab_type": "text"
      },
      "source": [
        "<a href=\"https://colab.research.google.com/github/Bilalafzal02/Python_Projects/blob/main/Inhertiance_.ipynb\" target=\"_parent\"><img src=\"https://colab.research.google.com/assets/colab-badge.svg\" alt=\"Open In Colab\"/></a>"
      ]
    },
    {
      "cell_type": "code",
      "execution_count": null,
      "metadata": {
        "colab": {
          "base_uri": "https://localhost:8080/"
        },
        "id": "R62aAboSPzDO",
        "outputId": "db46deaf-80eb-4369-fd1b-8e1f8cf468ac"
      },
      "outputs": [
        {
          "output_type": "stream",
          "name": "stdout",
          "text": [
            "car brand is:Suzuki,car model is: Alto,car year is: 2023\n",
            "car brand is:Toyota,car model is: Corolla,car year is: 2022\n"
          ]
        }
      ],
      "source": [
        "# Create a class Car with members brand, model, and year.\n",
        "class car:\n",
        "  def __inti__(self,brand,model,year):\n",
        "    self.brand = brand\n",
        "    self.model = model\n",
        "    self.year = year\n",
        "  def car_info(self):\n",
        "    print(f\"car brand is:{self.brand},car model is: {self.model},car year is: {self.year}\")\n",
        "car1 = car(\"Suzuki\",\"Alto\",2023)\n",
        "car1.car_info()\n",
        "\n",
        "car2 = car(\"Toyota\",\"Corolla\",2022)\n",
        "car2.car_info()"
      ]
    },
    {
      "cell_type": "code",
      "source": [
        "# Create a class Student with members name, roll_no, and marks.\n",
        "class student:\n",
        "  def __init__(self,name,roll_no,marks):\n",
        "    self.name = name\n",
        "    self.roll_no = roll_no\n",
        "    self.marks = marks\n",
        "  def display_result(self):\n",
        "    if self.marks>40:\n",
        "       print(f\"{self.name} has passed with marks: {self.marks}\")\n",
        "    else:\n",
        "      print(f\"{self.name} has failed with marks: {self.marks}\")\n",
        "student1 = student(\"Ali\",4,86)\n",
        "student1.display_result()\n",
        "student2 = student(\"Ahmed\",5,75)\n",
        "student2.display_result()\n"
      ],
      "metadata": {
        "colab": {
          "base_uri": "https://localhost:8080/"
        },
        "id": "5guuGVY_USun",
        "outputId": "f3a2fc8a-2155-46bc-b982-229de7eae1de"
      },
      "execution_count": null,
      "outputs": [
        {
          "output_type": "stream",
          "name": "stdout",
          "text": [
            "Ali has passed with marks: 86\n",
            "Ahmed has passed with marks: 75\n"
          ]
        }
      ]
    },
    {
      "cell_type": "code",
      "source": [
        "# Create a class Calculator with methods:\n",
        "class Calculator:\n",
        " def __init__(self,x,y):\n",
        "   self.x = x\n",
        "   self.y = y\n",
        " def add(self):\n",
        "    return self.x+self.y\n",
        " def subtract(self):\n",
        "    return self.x-self.y\n",
        " def multiply(self):\n",
        "    return self.x*self.y\n",
        " def divide(self):\n",
        "    return self.x%self.y\n",
        " def calculator_info(self):\n",
        "    print(f\"addition is:{self.add()},subtraction is: {self.subtract()},multiplication is: {self.multiply()},division is: {self.divide()}\")\n",
        "cal = Calculator(3,4)\n",
        "cal. calculator_info()\n"
      ],
      "metadata": {
        "colab": {
          "base_uri": "https://localhost:8080/"
        },
        "id": "M9eBOF56XpZ9",
        "outputId": "731e7164-050b-43a7-a919-aeb8a2f37f79"
      },
      "execution_count": null,
      "outputs": [
        {
          "output_type": "stream",
          "name": "stdout",
          "text": [
            "addition is:7,subtraction is: -1,multiplication is: 12,division is: 3\n"
          ]
        }
      ]
    },
    {
      "cell_type": "code",
      "source": [],
      "metadata": {
        "id": "WfJRSnHCIGDw"
      },
      "execution_count": null,
      "outputs": []
    }
  ]
}