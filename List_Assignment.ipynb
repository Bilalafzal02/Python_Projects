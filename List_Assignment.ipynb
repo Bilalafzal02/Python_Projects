{
  "nbformat": 4,
  "nbformat_minor": 0,
  "metadata": {
    "colab": {
      "provenance": [],
      "authorship_tag": "ABX9TyPMp1sHt4GtuJhDgqD2cJfa",
      "include_colab_link": true
    },
    "kernelspec": {
      "name": "python3",
      "display_name": "Python 3"
    },
    "language_info": {
      "name": "python"
    }
  },
  "cells": [
    {
      "cell_type": "markdown",
      "metadata": {
        "id": "view-in-github",
        "colab_type": "text"
      },
      "source": [
        "<a href=\"https://colab.research.google.com/github/Bilalafzal02/Python_Projects/blob/main/List_Assignment.ipynb\" target=\"_parent\"><img src=\"https://colab.research.google.com/assets/colab-badge.svg\" alt=\"Open In Colab\"/></a>"
      ]
    },
    {
      "cell_type": "code",
      "execution_count": 7,
      "metadata": {
        "colab": {
          "base_uri": "https://localhost:8080/"
        },
        "id": "jYcuVkKkpYgb",
        "outputId": "f6fc842d-1051-43ae-aa50-f7eea6a191a6"
      },
      "outputs": [
        {
          "output_type": "stream",
          "name": "stdout",
          "text": [
            "4\n",
            "12\n",
            "34\n",
            "44\n"
          ]
        }
      ],
      "source": [
        "# print only even number\n",
        "numbers = [4,12,23,34,51,13,44]\n",
        "for number in numbers:\n",
        "  if number % 2 == 0:\n",
        "    print(number)"
      ]
    },
    {
      "cell_type": "code",
      "source": [
        "# Found or NOt Found name\n",
        "Names = [\"Ali\",\"Shahid\",\"Ahmad\",\"Naeem\"]\n",
        "Student = input(\"Enter Your Name: \")\n",
        "if Student in Names:\n",
        "  print(\"Found\")\n",
        "else:\n",
        "  print(\"Not Found\")"
      ],
      "metadata": {
        "colab": {
          "base_uri": "https://localhost:8080/"
        },
        "id": "nXzd_tOksftC",
        "outputId": "97ab5893-0e09-4e22-8a63-b8cae3f5c748"
      },
      "execution_count": 9,
      "outputs": [
        {
          "output_type": "stream",
          "name": "stdout",
          "text": [
            "Enter Your Name: ali\n",
            "Not Found\n"
          ]
        }
      ]
    },
    {
      "cell_type": "code",
      "source": [
        "# Print Max and Mini Number\n",
        "numbers = [2,4,5,6,11,23,43]\n",
        "maximum=numbers[0]\n",
        "minimum=numbers[0]\n",
        "for num in numbers:\n",
        "  if num>maximum:\n",
        "    maximum=num\n",
        "  if num<minimum:\n",
        "    minimum=num\n",
        "print(\"maximun number is:\",maximum)\n",
        "print(\"minimum number is:\",minimum)"
      ],
      "metadata": {
        "colab": {
          "base_uri": "https://localhost:8080/"
        },
        "id": "EG8WpDOFtr1o",
        "outputId": "fe7d7f9d-2ccb-443d-95ea-7c0a7baa06b5"
      },
      "execution_count": 31,
      "outputs": [
        {
          "output_type": "stream",
          "name": "stdout",
          "text": [
            "maximun number is: 43\n",
            "minimum number is: 2\n"
          ]
        }
      ]
    },
    {
      "cell_type": "code",
      "source": [
        "#Multiply list\n",
        "number = [2,4,6,8,10]\n",
        "new_list = []\n",
        "for number in number:\n",
        "    new_list.append(number * 3)\n",
        "print(new_list)\n"
      ],
      "metadata": {
        "colab": {
          "base_uri": "https://localhost:8080/"
        },
        "id": "savRtja-vwcq",
        "outputId": "d68f5fc7-5321-4f0a-e1d6-031749158c33"
      },
      "execution_count": 20,
      "outputs": [
        {
          "output_type": "stream",
          "name": "stdout",
          "text": [
            "[6, 12, 18, 24, 30]\n"
          ]
        }
      ]
    },
    {
      "cell_type": "code",
      "source": [
        "students = [[\"Ali\", 20], [\"Sara\", 22], [\"Ahmed\", 19]]\n",
        "students_name = []\n",
        "for student in students:\n",
        "    students_name.append(student[0])\n",
        "print(students_name)\n"
      ],
      "metadata": {
        "colab": {
          "base_uri": "https://localhost:8080/"
        },
        "id": "DItvcQiOKgJt",
        "outputId": "f3575d57-b9cb-42f5-917f-2fcfa632573a"
      },
      "execution_count": 15,
      "outputs": [
        {
          "output_type": "stream",
          "name": "stdout",
          "text": [
            "['Ali', 'Sara', 'Ahmed']\n"
          ]
        }
      ]
    },
    {
      "cell_type": "code",
      "source": [
        "num = [1,2,3,4,5,6,7,8,9]\n",
        "odd_num = []\n",
        "for num in num:\n",
        "  if num%2 !=0:\n",
        "    odd_num.append(num)\n",
        "print(odd_num)"
      ],
      "metadata": {
        "colab": {
          "base_uri": "https://localhost:8080/"
        },
        "id": "KqM1qzKvNN5S",
        "outputId": "df1ec807-511b-402a-96f8-20c21d6b0cb5"
      },
      "execution_count": 25,
      "outputs": [
        {
          "output_type": "stream",
          "name": "stdout",
          "text": [
            "[1, 3, 5, 7, 9]\n"
          ]
        }
      ]
    },
    {
      "cell_type": "code",
      "source": [
        "#print the word in sentence\n",
        "words = [\"cherry\",\"apple\",\"banana\",\"kiwi\",\"mango\"]\n",
        "for word in words:\n",
        "  num=\" \".join(words)\n",
        "print(num)"
      ],
      "metadata": {
        "colab": {
          "base_uri": "https://localhost:8080/"
        },
        "id": "LPv7klnCOE-H",
        "outputId": "19623c2b-262a-4946-a6c0-e55836881a3f"
      },
      "execution_count": 36,
      "outputs": [
        {
          "output_type": "stream",
          "name": "stdout",
          "text": [
            "cherry apple banana kiwi mango\n"
          ]
        }
      ]
    },
    {
      "cell_type": "code",
      "source": [
        "# second highest number\n",
        "num = [2,4,5,7,9,12]\n",
        "number=sorted(num,reverse=True)\n",
        "print(number[1])"
      ],
      "metadata": {
        "colab": {
          "base_uri": "https://localhost:8080/"
        },
        "id": "GBRBOnQdP2P-",
        "outputId": "cc7f98ea-c0bb-4b1f-a118-4b907cdc0d19"
      },
      "execution_count": 14,
      "outputs": [
        {
          "output_type": "stream",
          "name": "stdout",
          "text": [
            "9\n"
          ]
        }
      ]
    }
  ]
}