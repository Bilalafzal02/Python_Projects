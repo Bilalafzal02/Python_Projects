{
  "cells": [
    {
      "cell_type": "markdown",
      "metadata": {
        "id": "view-in-github",
        "colab_type": "text"
      },
      "source": [
        "<a href=\"https://colab.research.google.com/github/Bilalafzal02/Python_Projects/blob/main/NumpyAssignment.ipynb\" target=\"_parent\"><img src=\"https://colab.research.google.com/assets/colab-badge.svg\" alt=\"Open In Colab\"/></a>"
      ]
    },
    {
      "cell_type": "code",
      "source": [
        "import numpy as np\n",
        "\n",
        "arr_n1 = np.array([1,2,3,4,5])\n",
        "print(\"Array:\", arr_n1)\n",
        "print(\"Type: \", arr_n1.dtype)\n",
        "print()"
      ],
      "metadata": {
        "id": "HFDy8PyBxgsN",
        "colab": {
          "base_uri": "https://localhost:8080/"
        },
        "outputId": "c81e9220-1706-4ebc-8a1b-9c72c2cdc399"
      },
      "execution_count": 4,
      "outputs": [
        {
          "output_type": "stream",
          "name": "stdout",
          "text": [
            "Array: [1 2 3 4 5]\n",
            "Type:  int64\n",
            "\n"
          ]
        }
      ]
    },
    {
      "cell_type": "code",
      "source": [
        "# Use np.arange() to create a 1D array of numbers from 10 to 50.\n",
        "# shapr and size\n",
        "import numpy as np\n",
        "arr_n1 = np.arange(10, 51)\n",
        "print(\"shape: \", arr_n1.shape)\n",
        "print(\"size: \", arr_n1.size)\n",
        "print()\n"
      ],
      "metadata": {
        "colab": {
          "base_uri": "https://localhost:8080/"
        },
        "id": "ZaxYkLj5rjOq",
        "outputId": "a82dedf6-0311-4499-daf4-85f0513f4e58"
      },
      "execution_count": 3,
      "outputs": [
        {
          "output_type": "stream",
          "name": "stdout",
          "text": [
            "shape:  (41,)\n",
            "size:  41\n",
            "\n"
          ]
        }
      ]
    },
    {
      "cell_type": "code",
      "source": [
        "#Create a 2D NumPy array of shape (3, 4) filled with zeros using np.zeros().\n",
        "# Convert all zeros into fives.\n",
        "import numpy as np\n",
        "\n",
        "zero = np.zeros ((3,4))\n",
        "print(\"Zeros: \\n\", zero)\n",
        "full = np.full((3,4),5)\n",
        "print(\"Full Seven: \\n\",full)\n",
        "print()"
      ],
      "metadata": {
        "colab": {
          "base_uri": "https://localhost:8080/"
        },
        "id": "ZHwRlAB6sT-r",
        "outputId": "a28ee667-2eb5-4bd3-ed1e-21f688dfac13"
      },
      "execution_count": 9,
      "outputs": [
        {
          "output_type": "stream",
          "name": "stdout",
          "text": [
            "Zeros: \n",
            " [[0. 0. 0. 0.]\n",
            " [0. 0. 0. 0.]\n",
            " [0. 0. 0. 0.]]\n",
            "Full Seven: \n",
            " [[5 5 5 5]\n",
            " [5 5 5 5]\n",
            " [5 5 5 5]]\n",
            "\n"
          ]
        }
      ]
    },
    {
      "cell_type": "code",
      "source": [
        "#Generate a 1D array of 15 random integers between 1 and 100 using np.random.randint().\n",
        "# Find the maximum, minimum, and mean values.\n",
        "\n",
        "import numpy as np\n",
        "arr_1d = np.random.randint(1,100)\n",
        "print(\"arr\",arr_1d)\n",
        "\n",
        "arr_1d = np.random.randint(1,100,15)\n",
        "print(\"arr\",arr_1d)\n",
        "sort =np.sort(arr_1d)\n",
        "print(\"sort\",sort)\n",
        "max = np.max(arr_1d)\n",
        "print(\"max\",max)\n",
        "min = np.min(arr_1d)\n",
        "print(\"min\",min)\n",
        "mean = np.mean(arr_1d)\n",
        "print(\"mean\",mean)\n",
        "print()\n"
      ],
      "metadata": {
        "colab": {
          "base_uri": "https://localhost:8080/"
        },
        "id": "0QKnLyB2uVFb",
        "outputId": "9b078a3c-6fd1-4d18-e5f0-6f6bdcad5f1b"
      },
      "execution_count": 20,
      "outputs": [
        {
          "output_type": "stream",
          "name": "stdout",
          "text": [
            "arr 91\n",
            "arr [13 96 74 56 70 83 48 34 76 54 36 91 26 27 99]\n",
            "sort [13 26 27 34 36 48 54 56 70 74 76 83 91 96 99]\n",
            "max 99\n",
            "min 13\n",
            "mean 58.86666666666667\n",
            "\n"
          ]
        }
      ]
    },
    {
      "cell_type": "code",
      "source": [
        "# Create a NumPy array [10, 20, 30, 40, 50]\n",
        "import numpy as np\n",
        "\n",
        "arr = np.array([10,20,30,40,50])\n",
        "print(\"First element: \", arr[0])\n",
        "print(\"Last element: \", arr[-1])\n",
        "print()\n"
      ],
      "metadata": {
        "colab": {
          "base_uri": "https://localhost:8080/"
        },
        "id": "jBOunRrtwUUU",
        "outputId": "7dfd497a-867c-4ea2-9e98-b9ceb0ac983c"
      },
      "execution_count": 34,
      "outputs": [
        {
          "output_type": "stream",
          "name": "stdout",
          "text": [
            "First element:  10\n",
            "Last element:  50\n",
            "\n"
          ]
        }
      ]
    },
    {
      "cell_type": "code",
      "source": [
        "#Create a NumPy array of numbers from 1 to 20.\n",
        "# Extract only the even numbers using slicing or boolean indexing.\n",
        "# Reverse the array using slicing.\n",
        "import numpy as np\n",
        "arr = np.arange(1,21)\n",
        "print(arr)\n",
        "even = arr[arr%2 ==0]\n",
        "print(\"even: \",even)\n",
        "reverse = arr[::-1]\n",
        "print(\"reverse: \",reverse)\n",
        "print()"
      ],
      "metadata": {
        "colab": {
          "base_uri": "https://localhost:8080/"
        },
        "id": "hdTeKHk0-7g0",
        "outputId": "db98d1a3-94a0-42f2-dc31-4ae9617a2c92"
      },
      "execution_count": 5,
      "outputs": [
        {
          "output_type": "stream",
          "name": "stdout",
          "text": [
            "[ 1  2  3  4  5  6  7  8  9 10 11 12 13 14 15 16 17 18 19 20]\n",
            "even:  [ 2  4  6  8 10 12 14 16 18 20]\n",
            "reverse:  [20 19 18 17 16 15 14 13 12 11 10  9  8  7  6  5  4  3  2  1]\n",
            "\n"
          ]
        }
      ]
    },
    {
      "cell_type": "code",
      "source": [
        "# Make a 2D array of shape (4, 4) with numbers from 1 to 16.\n",
        "import numpy as np\n",
        "\n",
        "arr_2d = np.arange(1,17).reshape(4,4)\n",
        "print(arr_2d)\n",
        "print(\"first two rows: \",arr_2d[:2, -2:])\n",
        "#print(\"Last two coloms: \",arr_2d[ 1:,-2])\n",
        "print()\n",
        "np.fill_diagonal(arr_2d,0)\n",
        "print(arr_2d)"
      ],
      "metadata": {
        "colab": {
          "base_uri": "https://localhost:8080/"
        },
        "id": "CvWSgPv__ACK",
        "outputId": "f655eebb-4ca3-4a8d-c48f-2232b6a46125"
      },
      "execution_count": 7,
      "outputs": [
        {
          "output_type": "stream",
          "name": "stdout",
          "text": [
            "[[ 1  2  3  4]\n",
            " [ 5  6  7  8]\n",
            " [ 9 10 11 12]\n",
            " [13 14 15 16]]\n",
            "first two rows:  [[3 4]\n",
            " [7 8]]\n",
            "\n",
            "[[ 0  2  3  4]\n",
            " [ 5  0  7  8]\n",
            " [ 9 10  0 12]\n",
            " [13 14 15  0]]\n"
          ]
        }
      ]
    },
    {
      "cell_type": "code",
      "source": [
        "# Create an array of 25 random integers between 1 and 100.\n",
        "#Sort the array using np.sort().\n",
        "import numpy as np\n",
        "\n",
        "arr = np.random.randint(1,101,25)\n",
        "print(arr)\n",
        "arry1=np.sort(arr)\n",
        "print(arry1)"
      ],
      "metadata": {
        "colab": {
          "base_uri": "https://localhost:8080/"
        },
        "id": "c4ui9Qn-K1rq",
        "outputId": "d87a915d-4312-457d-fafc-61d083587aa1"
      },
      "execution_count": 7,
      "outputs": [
        {
          "output_type": "stream",
          "name": "stdout",
          "text": [
            "[51 71 15 55 23 29 29 30 44 90 95 62 96 96 72 42 30 41 39 54  5 75 29 67\n",
            " 43]\n",
            "[ 5 15 23 29 29 29 30 30 39 41 42 43 44 51 54 55 62 67 71 72 75 90 95 96\n",
            " 96]\n"
          ]
        }
      ]
    },
    {
      "cell_type": "code",
      "source": [
        "# Create a 1D array of numbers from 1 to 10 and find:\n",
        "# Maximum (np.max())\n",
        "# Minimum (np.min())\n",
        "# Sum (np.sum())\n",
        "import numpy as np\n",
        "\n",
        "arr_1d = np.arange(1,11)\n",
        "print(arr_1d)\n",
        "max = arr_1d.max()\n",
        "print(\"max: \",max)\n",
        "mini = arr_1d.min()\n",
        "print(\"Mini\",mini)\n",
        "sum = arr_1d.sum()\n",
        "print(\"sum\",sum)"
      ],
      "metadata": {
        "colab": {
          "base_uri": "https://localhost:8080/"
        },
        "id": "fmC4qv_kkT1S",
        "outputId": "71875faf-ac5c-4e71-d9eb-a55d1859b48b"
      },
      "execution_count": 12,
      "outputs": [
        {
          "output_type": "stream",
          "name": "stdout",
          "text": [
            "[ 1  2  3  4  5  6  7  8  9 10]\n",
            "max:  10\n",
            "Mini 1\n",
            "sum 55\n"
          ]
        }
      ]
    },
    {
      "cell_type": "code",
      "source": [
        "# Reshape a 1D array of 36 elements into a 2D array of shape (6, 6).\n",
        "# Find the sum of each row and each column using np.sum() with axis.\n",
        "\n",
        "import numpy as np\n",
        "\n",
        "arr_1d = np.arange(1,37)\n",
        "print(arr_1d)\n",
        "arr_2d = arr_1d.reshape(6,6)\n",
        "print(arr_2d)\n",
        "sum = np.sum(arr_2d,axis=1)\n",
        "sum1=np.sum(arr_2d,axis=0)\n",
        "print(\"row_sum\",sum)\n",
        "print(\"sum_colm\",sum1)"
      ],
      "metadata": {
        "colab": {
          "base_uri": "https://localhost:8080/"
        },
        "id": "u0gpcYnGl_j7",
        "outputId": "e5010ca7-bf78-47ae-cbde-a6097b2156b8"
      },
      "execution_count": 20,
      "outputs": [
        {
          "output_type": "stream",
          "name": "stdout",
          "text": [
            "[ 1  2  3  4  5  6  7  8  9 10 11 12 13 14 15 16 17 18 19 20 21 22 23 24\n",
            " 25 26 27 28 29 30 31 32 33 34 35 36]\n",
            "[[ 1  2  3  4  5  6]\n",
            " [ 7  8  9 10 11 12]\n",
            " [13 14 15 16 17 18]\n",
            " [19 20 21 22 23 24]\n",
            " [25 26 27 28 29 30]\n",
            " [31 32 33 34 35 36]]\n",
            "row_sum [ 21  57  93 129 165 201]\n",
            "sum_colm [ 96 102 108 114 120 126]\n"
          ]
        }
      ]
    }
  ],
  "metadata": {
    "colab": {
      "provenance": [],
      "include_colab_link": true
    },
    "kernelspec": {
      "display_name": "Python 3",
      "name": "python3"
    }
  },
  "nbformat": 4,
  "nbformat_minor": 0
}