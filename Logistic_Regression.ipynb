{
  "nbformat": 4,
  "nbformat_minor": 0,
  "metadata": {
    "colab": {
      "provenance": [],
      "authorship_tag": "ABX9TyORkp4ZGVSfjk3p8QohF0PK",
      "include_colab_link": true
    },
    "kernelspec": {
      "name": "python3",
      "display_name": "Python 3"
    },
    "language_info": {
      "name": "python"
    }
  },
  "cells": [
    {
      "cell_type": "markdown",
      "metadata": {
        "id": "view-in-github",
        "colab_type": "text"
      },
      "source": [
        "<a href=\"https://colab.research.google.com/github/Bilalafzal02/Python_Projects/blob/main/Logistic_Regression.ipynb\" target=\"_parent\"><img src=\"https://colab.research.google.com/assets/colab-badge.svg\" alt=\"Open In Colab\"/></a>"
      ]
    },
    {
      "cell_type": "code",
      "execution_count": null,
      "metadata": {
        "id": "sEwPKgV6lFPg"
      },
      "outputs": [],
      "source": [
        "#logistic Regression\n",
        "from sklearn.linear_model import LogisticRegression\n",
        "import numpy as np\n",
        "\n",
        "# Sample training data\n",
        "# X = hours studied\n",
        "X = np.array([[1], [2], [3], [4], [5], [6], [7], [8]])\n",
        "# y = 0 = fail, 1 = pass\n",
        "y = np.array([0, 0, 0, 0, 1, 1, 1, 1])\n",
        "\n",
        "# Create the model\n",
        "model = LogisticRegression()\n",
        "\n",
        "# Train (fit) the model\n",
        "model.fit(X, y)\n",
        "\n",
        "# Predict for a student who studied 4.5 hours\n",
        "prediction = model.predict([[4.5]])\n",
        "probability = model.predict_proba([[4.5]])\n",
        "\n",
        "print(\"Predicted class:\", prediction)        # 0 or 1\n",
        "print(\"Predicted probability:\", probability) # [P(fail), P(pass)]\n"
      ]
    }
  ]
}