{
  "nbformat": 4,
  "nbformat_minor": 0,
  "metadata": {
    "colab": {
      "provenance": [],
      "authorship_tag": "ABX9TyOOJqVQpShpgM1v4cfl2NNs",
      "include_colab_link": true
    },
    "kernelspec": {
      "name": "python3",
      "display_name": "Python 3"
    },
    "language_info": {
      "name": "python"
    }
  },
  "cells": [
    {
      "cell_type": "markdown",
      "metadata": {
        "id": "view-in-github",
        "colab_type": "text"
      },
      "source": [
        "<a href=\"https://colab.research.google.com/github/Bilalafzal02/Python_Projects/blob/main/String_assignment.ipynb\" target=\"_parent\"><img src=\"https://colab.research.google.com/assets/colab-badge.svg\" alt=\"Open In Colab\"/></a>"
      ]
    },
    {
      "cell_type": "code",
      "execution_count": 4,
      "metadata": {
        "colab": {
          "base_uri": "https://localhost:8080/"
        },
        "id": "Y1TQmI0W3-xn",
        "outputId": "f11c5fdf-929f-4078-b4fd-e40340f4d20a"
      },
      "outputs": [
        {
          "output_type": "stream",
          "name": "stdout",
          "text": [
            "Enter your sentencethis is string\n",
            "The length of the string is: 14\n"
          ]
        }
      ],
      "source": [
        "# Take a string from the user and print its length using len().\n",
        "string = input(\"Enter your sentence\")\n",
        "length = len(string)\n",
        "print(f\"The length of the string is: {length}\")"
      ]
    },
    {
      "cell_type": "code",
      "source": [
        "# Input a string and print it in both uppercase and lowercase.\n",
        "string = \"This is a input length\"\n",
        "print(string.upper())\n",
        "print(string.lower())"
      ],
      "metadata": {
        "colab": {
          "base_uri": "https://localhost:8080/"
        },
        "id": "oFmM3RQj54L8",
        "outputId": "664acbb5-3343-46c5-fa6e-99aa86d1c707"
      },
      "execution_count": 7,
      "outputs": [
        {
          "output_type": "stream",
          "name": "stdout",
          "text": [
            "THIS IS A INPUT LENGTH\n",
            "this is a input length\n"
          ]
        }
      ]
    },
    {
      "cell_type": "code",
      "source": [
        "# Ask the user for a string and print the first and last character.\n",
        "string = input(\"Enter your sentecne: \")\n",
        "if string:\n",
        "  print(f\"The last word of sentence: \",{string[-1]})\n",
        "  print(f\"The first word of string: \",{string[0]})\n",
        "else:\n",
        "  print(\"The string is empty\")"
      ],
      "metadata": {
        "colab": {
          "base_uri": "https://localhost:8080/"
        },
        "id": "g9-V9tFy73vb",
        "outputId": "5863b2fb-f18a-4c74-ac08-0af2a93a7577"
      },
      "execution_count": 11,
      "outputs": [
        {
          "output_type": "stream",
          "name": "stdout",
          "text": [
            "Enter your sentecne: the is over\n",
            "The last word of sentence:  {'r'}\n",
            "The first word of string:  {'t'}\n"
          ]
        }
      ]
    },
    {
      "cell_type": "code",
      "source": [
        "# Replace the word 'bad'; with ;'good'; in a sentence.\n",
        "string = 'This world is bad'\n",
        "print(string.replace('bad','good'))\n"
      ],
      "metadata": {
        "colab": {
          "base_uri": "https://localhost:8080/"
        },
        "id": "G_DOmk5R9DRn",
        "outputId": "68060654-37f8-4eaa-ad38-3e74b8a9b318"
      },
      "execution_count": 12,
      "outputs": [
        {
          "output_type": "stream",
          "name": "stdout",
          "text": [
            "This world is good\n"
          ]
        }
      ]
    },
    {
      "cell_type": "code",
      "source": [
        "string = input(\"Enter the sentence\")\n",
        "string = count(string)\n"
      ],
      "metadata": {
        "id": "fHd1XOc09nHG"
      },
      "execution_count": null,
      "outputs": []
    },
    {
      "cell_type": "code",
      "source": [
        "# Take a string and a letter from the user. Count how many times that letter appears in the string.\n",
        "string = input(\"Enter the sectence:\")\n",
        "count_letter =input(\"Enter letter:\")\n",
        "if len(count_letter) == 1:\n",
        "  count = 0\n",
        "  for char in string:\n",
        "    if char == count_letter:\n",
        "      count +=1\n",
        "  print(f\"The letter '{count_letter}' appears {count} times in the string\")\n",
        "else:\n",
        "      print(\"Please enter a single letter\")"
      ],
      "metadata": {
        "colab": {
          "base_uri": "https://localhost:8080/"
        },
        "id": "0Ky7CJWm-sqv",
        "outputId": "da8eff5d-1bd1-44e1-9d56-eb41ccd4d16f"
      },
      "execution_count": 20,
      "outputs": [
        {
          "output_type": "stream",
          "name": "stdout",
          "text": [
            "Enter the sectence:This is my college\n",
            "Enter letter:l\n",
            "The letter 'l' appears 2 times in the string\n"
          ]
        }
      ]
    },
    {
      "cell_type": "code",
      "source": [
        "string = input(\"Enter the word: \")\n",
        "if string == string[::-1]:\n",
        "  print(f\"{string} is a palindrome\")\n",
        "else:\n",
        "  print(f\"{string} is not a palindrome\")"
      ],
      "metadata": {
        "colab": {
          "base_uri": "https://localhost:8080/"
        },
        "id": "ttHSlG7MFnlg",
        "outputId": "f4cd9ef6-7699-4c8f-e0bb-2bae44fabe78"
      },
      "execution_count": 22,
      "outputs": [
        {
          "output_type": "stream",
          "name": "stdout",
          "text": [
            "Enter the word: maam\n",
            "maam is a palindrome\n"
          ]
        }
      ]
    },
    {
      "cell_type": "code",
      "source": [
        "# Take a list of words [\"I\",\"LOVR\",PYHTON;] and join them into a single string with spaces:\n",
        "list = [\"I\",\"LOVR\",\"PYHTON\"]\n",
        "list_add = \" \".join(list)\n",
        "print(list_add)\n"
      ],
      "metadata": {
        "colab": {
          "base_uri": "https://localhost:8080/"
        },
        "id": "kgA88PstGXca",
        "outputId": "1e6a3666-9a65-44ff-d03a-076372af5a46"
      },
      "execution_count": 23,
      "outputs": [
        {
          "output_type": "stream",
          "name": "stdout",
          "text": [
            "I LOVR PYHTON\n"
          ]
        }
      ]
    }
  ]
}