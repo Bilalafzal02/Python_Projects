{
  "nbformat": 4,
  "nbformat_minor": 0,
  "metadata": {
    "colab": {
      "provenance": [],
      "authorship_tag": "ABX9TyMGaXiIwB3hO5TedGPUjvy2",
      "include_colab_link": true
    },
    "kernelspec": {
      "name": "python3",
      "display_name": "Python 3"
    },
    "language_info": {
      "name": "python"
    }
  },
  "cells": [
    {
      "cell_type": "markdown",
      "metadata": {
        "id": "view-in-github",
        "colab_type": "text"
      },
      "source": [
        "<a href=\"https://colab.research.google.com/github/Bilalafzal02/Python_Projects/blob/main/Linear_Regression_lab.ipynb\" target=\"_parent\"><img src=\"https://colab.research.google.com/assets/colab-badge.svg\" alt=\"Open In Colab\"/></a>"
      ]
    },
    {
      "cell_type": "code",
      "execution_count": 1,
      "metadata": {
        "colab": {
          "base_uri": "https://localhost:8080/"
        },
        "id": "odHkK7GNkhZq",
        "outputId": "c52a2947-6cb5-4d74-a0ea-6729a292566e"
      },
      "outputs": [
        {
          "output_type": "stream",
          "name": "stdout",
          "text": [
            "Slope (m): [0.6]\n",
            "Intercept (b): 2.2\n",
            "Prediction for x = 6: [5.8]\n"
          ]
        }
      ],
      "source": [
        "#linear Regression\n",
        "from sklearn.linear_model import LinearRegression\n",
        "import numpy as np\n",
        "\n",
        "# Sample training data\n",
        "X = np.array([[1], [2], [3], [4], [5]])  # Feature (input) must be 2D for sklearn\n",
        "y = np.array([2, 4, 5, 4, 5])            # Target (output)\n",
        "\n",
        "# Create the model\n",
        "model = LinearRegression()\n",
        "\n",
        "# Train (fit) the model\n",
        "model.fit(X, y)\n",
        "\n",
        "# Check slope (coefficient) and intercept\n",
        "print(\"Slope (m):\", model.coef_)\n",
        "print(\"Intercept (b):\", model.intercept_)\n",
        "\n",
        "# Make a prediction for x = 6\n",
        "predicted = model.predict([[6]])\n",
        "print(\"Prediction for x = 6:\", predicted)\n"
      ]
    }
  ]
}