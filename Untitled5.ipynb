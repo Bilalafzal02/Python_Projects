{
  "nbformat": 4,
  "nbformat_minor": 0,
  "metadata": {
    "colab": {
      "provenance": [],
      "authorship_tag": "ABX9TyOtZIrmxfO0SzZwUr2368N/",
      "include_colab_link": true
    },
    "kernelspec": {
      "name": "python3",
      "display_name": "Python 3"
    },
    "language_info": {
      "name": "python"
    }
  },
  "cells": [
    {
      "cell_type": "markdown",
      "metadata": {
        "id": "view-in-github",
        "colab_type": "text"
      },
      "source": [
        "<a href=\"https://colab.research.google.com/github/Bilalafzal02/Python_Projects/blob/main/Untitled5.ipynb\" target=\"_parent\"><img src=\"https://colab.research.google.com/assets/colab-badge.svg\" alt=\"Open In Colab\"/></a>"
      ]
    },
    {
      "cell_type": "code",
      "execution_count": 4,
      "metadata": {
        "colab": {
          "base_uri": "https://localhost:8080/"
        },
        "id": "HrA5w-Rjb9vc",
        "outputId": "1fa8800b-3b00-419d-8d4d-fbfef1c3f50e"
      },
      "outputs": [
        {
          "output_type": "stream",
          "name": "stdout",
          "text": [
            "Name Ali\n",
            "Age 16\n",
            "city BWP\n",
            "Class 10th\n",
            "{'Name': 'Ali', 'Age': 16, 'city': 'BWP', 'Class': '10th'}\n"
          ]
        }
      ],
      "source": [
        "my_dict = {\"Name\" : \"Ali\",\n",
        "\"Age\"  :  16,\n",
        "\"city\": \"BWP\",\n",
        "\"Class\": \"10th\"}\n",
        "for key,value in my_dict.items():\n",
        "     print(key,value)\n",
        "print(my_dict)"
      ]
    }
  ]
}