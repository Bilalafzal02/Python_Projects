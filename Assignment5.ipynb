{
  "nbformat": 4,
  "nbformat_minor": 0,
  "metadata": {
    "colab": {
      "provenance": [],
      "authorship_tag": "ABX9TyOo6U3vPA6sDlTVOIFTyV4r",
      "include_colab_link": true
    },
    "kernelspec": {
      "name": "python3",
      "display_name": "Python 3"
    },
    "language_info": {
      "name": "python"
    }
  },
  "cells": [
    {
      "cell_type": "markdown",
      "metadata": {
        "id": "view-in-github",
        "colab_type": "text"
      },
      "source": [
        "<a href=\"https://colab.research.google.com/github/Bilalafzal02/Python_Projects/blob/main/Assignment5.ipynb\" target=\"_parent\"><img src=\"https://colab.research.google.com/assets/colab-badge.svg\" alt=\"Open In Colab\"/></a>"
      ]
    },
    {
      "cell_type": "code",
      "execution_count": 10,
      "metadata": {
        "colab": {
          "base_uri": "https://localhost:8080/"
        },
        "id": "u9B-AJUWRenA",
        "outputId": "b9c4f9f6-0e2a-4c9c-a6b8-c932469ff2bb"
      },
      "outputs": [
        {
          "output_type": "stream",
          "name": "stdout",
          "text": [
            "{'Name': 'Ali', 'Age': 16, 'Class': '10th'}\n"
          ]
        }
      ],
      "source": [
        "my_dict = {\"Name\" : \"Ali\",\n",
        "\"Age\"  :  16,\n",
        "\"Class\": \"10th\"}\n",
        "\n",
        "print(my_dict)"
      ]
    },
    {
      "cell_type": "code",
      "source": [
        "# Acess and print only Age\n",
        "my_dict = {\"Name\" : \"Ali\",\n",
        "\"Age\"  :  16,\n",
        "\"Class\": \"10th\"}\n",
        "print(my_dict[\"Age\"])"
      ],
      "metadata": {
        "colab": {
          "base_uri": "https://localhost:8080/"
        },
        "id": "RO1dK4O9TTqS",
        "outputId": "4c998205-617b-4ef1-e4bc-1f24e2d136d1"
      },
      "execution_count": 17,
      "outputs": [
        {
          "output_type": "stream",
          "name": "stdout",
          "text": [
            "16\n"
          ]
        }
      ]
    },
    {
      "cell_type": "code",
      "source": [
        "my_dict = {\"Name\" : \"Ali\",\n",
        "\"Age\"  :  16,\n",
        "\"Class\": \"10th\"}\n",
        "print(my_dict.update({\"Grade\":12}))\n",
        "print(my_dict)"
      ],
      "metadata": {
        "colab": {
          "base_uri": "https://localhost:8080/"
        },
        "id": "JLGziUUzU0CP",
        "outputId": "9cec67ef-7a0f-4d19-8fe4-e16d3293fb2b"
      },
      "execution_count": 21,
      "outputs": [
        {
          "output_type": "stream",
          "name": "stdout",
          "text": [
            "None\n",
            "{'Name': 'Ali', 'Age': 16, 'Class': '10th', 'Grade': 12}\n"
          ]
        }
      ]
    },
    {
      "cell_type": "code",
      "source": [
        "# Update the Age\n",
        "my_dict = {\"Name\" : \"Ali\",\n",
        "\"Age\"  :  16,\n",
        "\"Class\": \"10th\"}\n",
        "print(my_dict.update({\"Age\": 20}))\n",
        "print(my_dict)"
      ],
      "metadata": {
        "colab": {
          "base_uri": "https://localhost:8080/"
        },
        "id": "NXAE2m4U8s3f",
        "outputId": "9d4e1a4c-5dc0-4fd8-ca60-a1467b84852c"
      },
      "execution_count": 1,
      "outputs": [
        {
          "output_type": "stream",
          "name": "stdout",
          "text": [
            "None\n",
            "{'Name': 'Ali', 'Age': 20, 'Class': '10th'}\n"
          ]
        }
      ]
    },
    {
      "cell_type": "code",
      "source": [
        "my_dict = {\"Name\" : \"Ali\",\n",
        "\"Age\"  :  16,\n",
        "\"city\": \"BWP\",\n",
        "\"Class\": \"10th\"}\n",
        "print(my_dict.pop(\"city\"))\n",
        "print(my_dict)"
      ],
      "metadata": {
        "id": "1WBfvOZPZyC7"
      },
      "execution_count": null,
      "outputs": []
    },
    {
      "cell_type": "code",
      "source": [
        "my_dict = {\"Name\" : \"Ali\",\n",
        "\"Age\"  :  16,\n",
        "\"city\": \"BWP\",\n",
        "\"Class\": \"10th\"}\n",
        "for key,value in my_dict.items():\n",
        "     print(key,value)\n",
        "print(my_dict)"
      ],
      "metadata": {
        "id": "0UZfBR6vaMEU"
      },
      "execution_count": null,
      "outputs": []
    }
  ]
}