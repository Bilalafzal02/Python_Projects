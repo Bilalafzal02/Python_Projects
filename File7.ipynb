{
  "nbformat": 4,
  "nbformat_minor": 0,
  "metadata": {
    "colab": {
      "provenance": [],
      "authorship_tag": "ABX9TyNZcbADZ7qOCgzxUyJtIFf2",
      "include_colab_link": true
    },
    "kernelspec": {
      "name": "python3",
      "display_name": "Python 3"
    },
    "language_info": {
      "name": "python"
    }
  },
  "cells": [
    {
      "cell_type": "markdown",
      "metadata": {
        "id": "view-in-github",
        "colab_type": "text"
      },
      "source": [
        "<a href=\"https://colab.research.google.com/github/Bilalafzal02/Python_Projects/blob/main/File7.ipynb\" target=\"_parent\"><img src=\"https://colab.research.google.com/assets/colab-badge.svg\" alt=\"Open In Colab\"/></a>"
      ]
    },
    {
      "cell_type": "code",
      "execution_count": 1,
      "metadata": {
        "colab": {
          "base_uri": "https://localhost:8080/"
        },
        "id": "bCkYh61u3xWD",
        "outputId": "1102d61a-d637-4fbc-956f-93d36b9dbfd0"
      },
      "outputs": [
        {
          "output_type": "stream",
          "name": "stdout",
          "text": [
            "Enter your name:bilal\n",
            "Enter your age:23\n",
            "file writing is don sucessfully\n",
            "name:bilal\n",
            "age:23\n",
            "\n"
          ]
        }
      ],
      "source": [
        "\"\"\"\n",
        "Q1: Write to a File\n",
        "Create a Dart program that takes user input for their name and age and writes it into a file called\n",
        "info.txt.\n",
        "\"\"\"\n",
        "\n",
        "name=input(\"Enter your name:\")\n",
        "age=input(\"Enter your age:\")\n",
        "\n",
        "file=open(\"info.text\",\"w\")\n",
        "file.write(\"name:\"+name+\"\\n\")\n",
        "file.write(\"age:\"+age+\"\\n\")\n",
        "file.close()\n",
        "print(\"file writing is don sucessfully\")\n",
        "\n",
        "\n",
        "file=open(\"info.text\",\"r\")\n",
        "alpha=file.read()\n",
        "print(alpha)\n"
      ]
    },
    {
      "cell_type": "code",
      "source": [
        "# Read from a File\n",
        "# Write a Dart program that reads the content of info.txt (created in Q1) and displays it on the console.\n",
        "\n",
        "file=open(\"info.text\",\"r\")\n",
        "alpha=file.read()\n",
        "print(alpha)"
      ],
      "metadata": {
        "colab": {
          "base_uri": "https://localhost:8080/"
        },
        "id": "WN0xwhpa59cj",
        "outputId": "db729d46-64dd-42fb-cac5-3fcdb3daf91d"
      },
      "execution_count": 3,
      "outputs": [
        {
          "output_type": "stream",
          "name": "stdout",
          "text": [
            "name:bilal\n",
            "age:23\n",
            "\n"
          ]
        }
      ]
    },
    {
      "cell_type": "code",
      "source": [
        "# Append to a File\n",
        "\n",
        "name=input(\"Enter your name:\")\n",
        "age=input(\"Enter your age:\")\n",
        "\n",
        "file=open(\"info.text\",\"w\")\n",
        "file.write(\"name:\"+name+\"\\n\")\n",
        "file.write(\"age:\"+age+\"\\n\")\n",
        "file.close()\n",
        "print(\"file writing is done sucessfully\")\n",
        "\n",
        "file=open(\"info.text\",\"a\")\n",
        "file.write(\"This is my info in upper two line\")\n",
        "print(\"appende line successfuly\")\n",
        "\n",
        "file=open(\"info.text\",\"r\")\n",
        "info=file.read()\n",
        "print(info)"
      ],
      "metadata": {
        "colab": {
          "base_uri": "https://localhost:8080/"
        },
        "id": "09GBNZte6Rf8",
        "outputId": "54d8c71d-4cfc-47ac-9ceb-841d0a4b5b26"
      },
      "execution_count": 6,
      "outputs": [
        {
          "output_type": "stream",
          "name": "stdout",
          "text": [
            "Enter your name:Ali\n",
            "Enter your age:24\n",
            "file writing is done sucessfully\n",
            "appende line successfuly\n",
            "name:Ali\n",
            "age:24\n",
            "This is my info in upper two line\n"
          ]
        }
      ]
    },
    {
      "cell_type": "code",
      "source": [
        "# Read, Write and Append Together\n",
        "file=open(\"data.text\",\"w\")\n",
        "file.write(\"Welcome to Dart File Handling\")\n",
        "file.close()\n",
        "\n",
        "file=open(\"data.text\",\"r\")\n",
        "alpha=file.read()\n",
        "print(alpha)\n",
        "\n",
        "file=open(\"data.text\",\"a\")\n",
        "file.write(\"end of the file\")\n",
        "print(\"File is appended successfully\")\n",
        "\n",
        "file=open(\"data.text\",\"r\")\n",
        "alpha=file.read()\n",
        "print(alpha)"
      ],
      "metadata": {
        "colab": {
          "base_uri": "https://localhost:8080/"
        },
        "id": "KhSJhxns6yBL",
        "outputId": "4dd5f17d-d020-4c4a-d965-574437480d9b"
      },
      "execution_count": 8,
      "outputs": [
        {
          "output_type": "stream",
          "name": "stdout",
          "text": [
            "Welcome to Dart File Handling\n",
            "File is appended successfully\n",
            "Welcome to Dart File Handlingend of the file\n"
          ]
        }
      ]
    },
    {
      "cell_type": "code",
      "source": [
        "# Copy File Content\n",
        "# Write a Dart program that reads all the content from info.txt and writes it into a new file\n",
        "with open(\"info.text\",\"r\") as source_file:\n",
        "     content=source_file.read()\n",
        "\n",
        "with open(\"copy_info\",\"w\") as copy_file:\n",
        "     copy_file.write(content)\n",
        "\n",
        "     print(\"operation completed successfully\")\n"
      ],
      "metadata": {
        "colab": {
          "base_uri": "https://localhost:8080/"
        },
        "id": "qlQ6C2NL7ioK",
        "outputId": "57fd2db0-79cb-404c-fdc3-3a630fca9cc1"
      },
      "execution_count": 9,
      "outputs": [
        {
          "output_type": "stream",
          "name": "stdout",
          "text": [
            "operation completed successfully\n"
          ]
        }
      ]
    },
    {
      "cell_type": "code",
      "source": [
        "# Count Words in a File\n",
        "with open(\"data.text\", \"r\") as file:\n",
        "    content = file.read()\n",
        "\n",
        "\n",
        "lines = content.splitlines()\n",
        "line_count = len(lines)\n",
        "\n",
        "words = content.split()\n",
        "word_count = len(words)\n",
        "\n",
        "print(\"Number of lines:\", line_count)\n",
        "print(\"Number of words:\", word_count)\n"
      ],
      "metadata": {
        "colab": {
          "base_uri": "https://localhost:8080/"
        },
        "id": "xDmmJLoO71ZG",
        "outputId": "45b1a572-6c61-44d0-fd6e-62660754615b"
      },
      "execution_count": 10,
      "outputs": [
        {
          "output_type": "stream",
          "name": "stdout",
          "text": [
            "Number of lines: 1\n",
            "Number of words: 8\n"
          ]
        }
      ]
    },
    {
      "cell_type": "code",
      "source": [
        "# Merge Two Files\n",
        "with open(\"info.text\", \"r\") as f1:\n",
        "    content1 = f1.read()\n",
        "\n",
        "with open(\"data.text\", \"r\") as f2:\n",
        "    content2 = f2.read()\n",
        "\n",
        "with open(\"merged.txt\", \"w\") as f3:\n",
        "    f3.write(content1 + \"\\n\" + content2)\n",
        "\n",
        "print(\"Files merged successfully into merged.txt!\")"
      ],
      "metadata": {
        "colab": {
          "base_uri": "https://localhost:8080/"
        },
        "id": "NlbpvA878LLI",
        "outputId": "cd62f384-3cbe-4eca-9995-9fc3dfd589e9"
      },
      "execution_count": 11,
      "outputs": [
        {
          "output_type": "stream",
          "name": "stdout",
          "text": [
            "Files merged successfully into merged.txt!\n"
          ]
        }
      ]
    }
  ]
}